{
 "cells": [
  {
   "cell_type": "markdown",
   "id": "static-bonus",
   "metadata": {},
   "source": [
    "\n",
    "# Project: The Olympics Games\n",
    "\n",
    "## Table of Contents\n",
    "<ul>\n",
    "<li><a href=\"#intro\">Introduction</a></li>\n",
    "<li><a href=\"#Checking Athletes Dataset\">Checking Athletes Dataset</a></li>\n",
    "<li><a href=\"#Checking Teams Dataset\">Checking Teams Datase</a></li>\n",
    "<li><a href=\"#Checking Medals Dataset\">Checking Medals Dataset</a></li>\n",
    "<li><a href=\"#Checking Coaches Dataset\">Checking Coaches Dataset</a></li>\n",
    "<li><a href=\"#Checking Gender Dataset\">Checking Gender Dataset</a></li>\n",
    "<li><a href=\"#Checking Country Medals from 1896 to 2020 Dataset\">Checking Country_Medals from_1896 to 2020 Dataset</a></li>\n",
    "<li><a href=\"#conclusions\">Conclusions</a></li>\n",
    "</ul>"
   ]
  },
  {
   "cell_type": "markdown",
   "id": "alive-oxygen",
   "metadata": {},
   "source": [
    "<a id='intro'></a>\n",
    "## Introduction\n",
    "\n",
    "> I will analyze and explore data from 6 Datasets, 5 Datasets (Athletes, Teams, Medals, Coaches, and Gender) for Tokyo 2020. And one dataset (Country_Medals_from_1896_to_2020) for the history of the olympics games from 1896 to 2020.\n",
    "In this notebook, I will check the data cleaning and consistency then I will the exploratory and Explanatory Processes through Tableau and I will include the insights I found In the notebook."
   ]
  },
  {
   "cell_type": "code",
   "execution_count": 1,
   "id": "blocked-richardson",
   "metadata": {},
   "outputs": [],
   "source": [
    "import numpy as np\n",
    "import pandas as pd\n",
    "import matplotlib.pyplot as plt\n",
    "import seaborn as sb\n",
    "%matplotlib inline\n",
    "from scipy import stats\n",
    "import datetime"
   ]
  },
  {
   "cell_type": "markdown",
   "id": "appointed-entry",
   "metadata": {},
   "source": [
    "<a id='Checking Athletes Dataset'></a>\n",
    "## Checking Athletes Dataset"
   ]
  },
  {
   "cell_type": "code",
   "execution_count": 2,
   "id": "significant-outdoors",
   "metadata": {},
   "outputs": [
    {
     "name": "stdout",
     "output_type": "stream",
     "text": [
      "(11085, 3)\n"
     ]
    },
    {
     "data": {
      "text/html": [
       "<div>\n",
       "<style scoped>\n",
       "    .dataframe tbody tr th:only-of-type {\n",
       "        vertical-align: middle;\n",
       "    }\n",
       "\n",
       "    .dataframe tbody tr th {\n",
       "        vertical-align: top;\n",
       "    }\n",
       "\n",
       "    .dataframe thead th {\n",
       "        text-align: right;\n",
       "    }\n",
       "</style>\n",
       "<table border=\"1\" class=\"dataframe\">\n",
       "  <thead>\n",
       "    <tr style=\"text-align: right;\">\n",
       "      <th></th>\n",
       "      <th>Name</th>\n",
       "      <th>Country</th>\n",
       "      <th>Play</th>\n",
       "    </tr>\n",
       "  </thead>\n",
       "  <tbody>\n",
       "    <tr>\n",
       "      <th>2457</th>\n",
       "      <td>DOUMBIA Idrissa</td>\n",
       "      <td>Cote d'Ivoir</td>\n",
       "      <td>Football</td>\n",
       "    </tr>\n",
       "    <tr>\n",
       "      <th>1994</th>\n",
       "      <td>CREVIER Axelle</td>\n",
       "      <td>Canada</td>\n",
       "      <td>Water Polo</td>\n",
       "    </tr>\n",
       "    <tr>\n",
       "      <th>8033</th>\n",
       "      <td>RAMIREZ LIMON Andrea Soraya</td>\n",
       "      <td>Mexico</td>\n",
       "      <td>Athletics</td>\n",
       "    </tr>\n",
       "    <tr>\n",
       "      <th>3610</th>\n",
       "      <td>GUSTIN Ronan</td>\n",
       "      <td>France</td>\n",
       "      <td>Fencing</td>\n",
       "    </tr>\n",
       "    <tr>\n",
       "      <th>9129</th>\n",
       "      <td>SMITH Samantha</td>\n",
       "      <td>Canada</td>\n",
       "      <td>Trampoline Gymnastics</td>\n",
       "    </tr>\n",
       "  </tbody>\n",
       "</table>\n",
       "</div>"
      ],
      "text/plain": [
       "                             Name       Country                   Play\n",
       "2457              DOUMBIA Idrissa  Cote d'Ivoir               Football\n",
       "1994               CREVIER Axelle        Canada             Water Polo\n",
       "8033  RAMIREZ LIMON Andrea Soraya        Mexico              Athletics\n",
       "3610                 GUSTIN Ronan        France                Fencing\n",
       "9129               SMITH Samantha        Canada  Trampoline Gymnastics"
      ]
     },
     "execution_count": 2,
     "metadata": {},
     "output_type": "execute_result"
    }
   ],
   "source": [
    "athletes = pd.read_csv('Athletes.csv')\n",
    "print(athletes.shape)\n",
    "athletes.sample(5)"
   ]
  },
  {
   "cell_type": "code",
   "execution_count": 3,
   "id": "brilliant-boost",
   "metadata": {},
   "outputs": [
    {
     "name": "stdout",
     "output_type": "stream",
     "text": [
      "<class 'pandas.core.frame.DataFrame'>\n",
      "RangeIndex: 11085 entries, 0 to 11084\n",
      "Data columns (total 3 columns):\n",
      " #   Column   Non-Null Count  Dtype \n",
      "---  ------   --------------  ----- \n",
      " 0   Name     11085 non-null  object\n",
      " 1   Country  11085 non-null  object\n",
      " 2   Play     11085 non-null  object\n",
      "dtypes: object(3)\n",
      "memory usage: 259.9+ KB\n"
     ]
    }
   ],
   "source": [
    "athletes.info()"
   ]
  },
  {
   "cell_type": "code",
   "execution_count": 4,
   "id": "considered-eugene",
   "metadata": {},
   "outputs": [
    {
     "data": {
      "text/plain": [
       "Name       0\n",
       "Country    0\n",
       "Play       0\n",
       "dtype: int64"
      ]
     },
     "execution_count": 4,
     "metadata": {},
     "output_type": "execute_result"
    }
   ],
   "source": [
    "athletes.isnull().sum()"
   ]
  },
  {
   "cell_type": "code",
   "execution_count": 5,
   "id": "ready-digest",
   "metadata": {},
   "outputs": [
    {
     "data": {
      "text/plain": [
       "1"
      ]
     },
     "execution_count": 5,
     "metadata": {},
     "output_type": "execute_result"
    }
   ],
   "source": [
    "athletes.duplicated().sum()"
   ]
  },
  {
   "cell_type": "code",
   "execution_count": 6,
   "id": "rapid-burst",
   "metadata": {},
   "outputs": [
    {
     "data": {
      "text/html": [
       "<div>\n",
       "<style scoped>\n",
       "    .dataframe tbody tr th:only-of-type {\n",
       "        vertical-align: middle;\n",
       "    }\n",
       "\n",
       "    .dataframe tbody tr th {\n",
       "        vertical-align: top;\n",
       "    }\n",
       "\n",
       "    .dataframe thead th {\n",
       "        text-align: right;\n",
       "    }\n",
       "</style>\n",
       "<table border=\"1\" class=\"dataframe\">\n",
       "  <thead>\n",
       "    <tr style=\"text-align: right;\">\n",
       "      <th></th>\n",
       "      <th>Name</th>\n",
       "      <th>Country</th>\n",
       "      <th>Play</th>\n",
       "    </tr>\n",
       "  </thead>\n",
       "  <tbody>\n",
       "    <tr>\n",
       "      <th>254</th>\n",
       "      <td>ALI Mohamed</td>\n",
       "      <td>Bahrain</td>\n",
       "      <td>Handball</td>\n",
       "    </tr>\n",
       "  </tbody>\n",
       "</table>\n",
       "</div>"
      ],
      "text/plain": [
       "            Name  Country      Play\n",
       "254  ALI Mohamed  Bahrain  Handball"
      ]
     },
     "execution_count": 6,
     "metadata": {},
     "output_type": "execute_result"
    }
   ],
   "source": [
    "athletes[athletes.duplicated()]"
   ]
  },
  {
   "cell_type": "markdown",
   "id": "essential-elements",
   "metadata": {},
   "source": [
    "- Duplicate athlete."
   ]
  },
  {
   "cell_type": "code",
   "execution_count": 7,
   "id": "searching-thesaurus",
   "metadata": {},
   "outputs": [
    {
     "data": {
      "text/plain": [
       "MARTIN Daniel           2\n",
       "WANG Yang               2\n",
       "KIM Hyunsoo             2\n",
       "DYGERT Chloe            2\n",
       "PALTRINIERI Gregorio    2\n",
       "GANNA Filippo           2\n",
       "HALL James              2\n",
       "KURBANOV Ruslan         2\n",
       "SUN Jiajun              2\n",
       "ALVAREZ Jorge           2\n",
       "PEREZ Paola             2\n",
       "PEREZ Maria             2\n",
       "HAVIK Yoeri             2\n",
       "WELLBROCK Florian       2\n",
       "KOPECKY Lotte           2\n",
       "WATANABE Yuta           2\n",
       "ALI Mohamed             2\n",
       "ZHANG Xin               2\n",
       "LI Qian                 2\n",
       "CHEN Yang               2\n",
       "Name: Name, dtype: int64"
      ]
     },
     "execution_count": 7,
     "metadata": {},
     "output_type": "execute_result"
    }
   ],
   "source": [
    "athletes.Name.value_counts(ascending = False).head(20)"
   ]
  },
  {
   "cell_type": "code",
   "execution_count": 8,
   "id": "improved-default",
   "metadata": {},
   "outputs": [
    {
     "data": {
      "text/html": [
       "<div>\n",
       "<style scoped>\n",
       "    .dataframe tbody tr th:only-of-type {\n",
       "        vertical-align: middle;\n",
       "    }\n",
       "\n",
       "    .dataframe tbody tr th {\n",
       "        vertical-align: top;\n",
       "    }\n",
       "\n",
       "    .dataframe thead th {\n",
       "        text-align: right;\n",
       "    }\n",
       "</style>\n",
       "<table border=\"1\" class=\"dataframe\">\n",
       "  <thead>\n",
       "    <tr style=\"text-align: right;\">\n",
       "      <th></th>\n",
       "      <th>Name</th>\n",
       "      <th>Country</th>\n",
       "      <th>Play</th>\n",
       "    </tr>\n",
       "  </thead>\n",
       "  <tbody>\n",
       "    <tr>\n",
       "      <th>6044</th>\n",
       "      <td>MARTIN Daniel</td>\n",
       "      <td>Ireland</td>\n",
       "      <td>Cycling Road</td>\n",
       "    </tr>\n",
       "    <tr>\n",
       "      <th>6045</th>\n",
       "      <td>MARTIN Daniel</td>\n",
       "      <td>Romania</td>\n",
       "      <td>Swimming</td>\n",
       "    </tr>\n",
       "  </tbody>\n",
       "</table>\n",
       "</div>"
      ],
      "text/plain": [
       "               Name  Country          Play\n",
       "6044  MARTIN Daniel  Ireland  Cycling Road\n",
       "6045  MARTIN Daniel  Romania      Swimming"
      ]
     },
     "execution_count": 8,
     "metadata": {},
     "output_type": "execute_result"
    }
   ],
   "source": [
    "athletes[athletes['Name'] == 'MARTIN Daniel']"
   ]
  },
  {
   "cell_type": "code",
   "execution_count": 9,
   "id": "subject-empty",
   "metadata": {},
   "outputs": [
    {
     "data": {
      "text/html": [
       "<div>\n",
       "<style scoped>\n",
       "    .dataframe tbody tr th:only-of-type {\n",
       "        vertical-align: middle;\n",
       "    }\n",
       "\n",
       "    .dataframe tbody tr th {\n",
       "        vertical-align: top;\n",
       "    }\n",
       "\n",
       "    .dataframe thead th {\n",
       "        text-align: right;\n",
       "    }\n",
       "</style>\n",
       "<table border=\"1\" class=\"dataframe\">\n",
       "  <thead>\n",
       "    <tr style=\"text-align: right;\">\n",
       "      <th></th>\n",
       "      <th>Name</th>\n",
       "      <th>Country</th>\n",
       "      <th>Play</th>\n",
       "    </tr>\n",
       "  </thead>\n",
       "  <tbody>\n",
       "    <tr>\n",
       "      <th>319</th>\n",
       "      <td>ALVAREZ Jorge</td>\n",
       "      <td>Cuba</td>\n",
       "      <td>Shooting</td>\n",
       "    </tr>\n",
       "    <tr>\n",
       "      <th>320</th>\n",
       "      <td>ALVAREZ Jorge</td>\n",
       "      <td>Honduras</td>\n",
       "      <td>Football</td>\n",
       "    </tr>\n",
       "  </tbody>\n",
       "</table>\n",
       "</div>"
      ],
      "text/plain": [
       "              Name   Country      Play\n",
       "319  ALVAREZ Jorge      Cuba  Shooting\n",
       "320  ALVAREZ Jorge  Honduras  Football"
      ]
     },
     "execution_count": 9,
     "metadata": {},
     "output_type": "execute_result"
    }
   ],
   "source": [
    "athletes[athletes['Name'] == 'ALVAREZ Jorge']"
   ]
  },
  {
   "cell_type": "code",
   "execution_count": 10,
   "id": "turkish-subsection",
   "metadata": {},
   "outputs": [
    {
     "data": {
      "text/html": [
       "<div>\n",
       "<style scoped>\n",
       "    .dataframe tbody tr th:only-of-type {\n",
       "        vertical-align: middle;\n",
       "    }\n",
       "\n",
       "    .dataframe tbody tr th {\n",
       "        vertical-align: top;\n",
       "    }\n",
       "\n",
       "    .dataframe thead th {\n",
       "        text-align: right;\n",
       "    }\n",
       "</style>\n",
       "<table border=\"1\" class=\"dataframe\">\n",
       "  <thead>\n",
       "    <tr style=\"text-align: right;\">\n",
       "      <th></th>\n",
       "      <th>Name</th>\n",
       "      <th>Country</th>\n",
       "      <th>Play</th>\n",
       "    </tr>\n",
       "  </thead>\n",
       "  <tbody>\n",
       "    <tr>\n",
       "      <th>10111</th>\n",
       "      <td>van ROUWENDAAL Sharon</td>\n",
       "      <td>Netherlands</td>\n",
       "      <td>Marathon Swimming</td>\n",
       "    </tr>\n",
       "    <tr>\n",
       "      <th>10112</th>\n",
       "      <td>van ROUWENDAAL Sharon</td>\n",
       "      <td>Netherlands</td>\n",
       "      <td>Swimming</td>\n",
       "    </tr>\n",
       "  </tbody>\n",
       "</table>\n",
       "</div>"
      ],
      "text/plain": [
       "                        Name      Country               Play\n",
       "10111  van ROUWENDAAL Sharon  Netherlands  Marathon Swimming\n",
       "10112  van ROUWENDAAL Sharon  Netherlands           Swimming"
      ]
     },
     "execution_count": 10,
     "metadata": {},
     "output_type": "execute_result"
    }
   ],
   "source": [
    "athletes[athletes['Name'] == 'van ROUWENDAAL Sharon']"
   ]
  },
  {
   "cell_type": "code",
   "execution_count": 11,
   "id": "residential-universal",
   "metadata": {},
   "outputs": [
    {
     "data": {
      "text/html": [
       "<div>\n",
       "<style scoped>\n",
       "    .dataframe tbody tr th:only-of-type {\n",
       "        vertical-align: middle;\n",
       "    }\n",
       "\n",
       "    .dataframe tbody tr th {\n",
       "        vertical-align: top;\n",
       "    }\n",
       "\n",
       "    .dataframe thead th {\n",
       "        text-align: right;\n",
       "    }\n",
       "</style>\n",
       "<table border=\"1\" class=\"dataframe\">\n",
       "  <thead>\n",
       "    <tr style=\"text-align: right;\">\n",
       "      <th></th>\n",
       "      <th>Name</th>\n",
       "      <th>Country</th>\n",
       "      <th>Play</th>\n",
       "    </tr>\n",
       "  </thead>\n",
       "  <tbody>\n",
       "    <tr>\n",
       "      <th>5061</th>\n",
       "      <td>KOPECKY Lotte</td>\n",
       "      <td>Belgium</td>\n",
       "      <td>Cycling Road</td>\n",
       "    </tr>\n",
       "    <tr>\n",
       "      <th>5062</th>\n",
       "      <td>KOPECKY Lotte</td>\n",
       "      <td>Belgium</td>\n",
       "      <td>Cycling Track</td>\n",
       "    </tr>\n",
       "  </tbody>\n",
       "</table>\n",
       "</div>"
      ],
      "text/plain": [
       "               Name  Country           Play\n",
       "5061  KOPECKY Lotte  Belgium   Cycling Road\n",
       "5062  KOPECKY Lotte  Belgium  Cycling Track"
      ]
     },
     "execution_count": 11,
     "metadata": {},
     "output_type": "execute_result"
    }
   ],
   "source": [
    "athletes[athletes['Name'] == 'KOPECKY Lotte']"
   ]
  },
  {
   "cell_type": "code",
   "execution_count": 12,
   "id": "indoor-prevention",
   "metadata": {},
   "outputs": [
    {
     "data": {
      "text/html": [
       "<div>\n",
       "<style scoped>\n",
       "    .dataframe tbody tr th:only-of-type {\n",
       "        vertical-align: middle;\n",
       "    }\n",
       "\n",
       "    .dataframe tbody tr th {\n",
       "        vertical-align: top;\n",
       "    }\n",
       "\n",
       "    .dataframe thead th {\n",
       "        text-align: right;\n",
       "    }\n",
       "</style>\n",
       "<table border=\"1\" class=\"dataframe\">\n",
       "  <thead>\n",
       "    <tr style=\"text-align: right;\">\n",
       "      <th></th>\n",
       "      <th>Name</th>\n",
       "      <th>Country</th>\n",
       "      <th>Play</th>\n",
       "    </tr>\n",
       "  </thead>\n",
       "  <tbody>\n",
       "    <tr>\n",
       "      <th>3664</th>\n",
       "      <td>HALL James</td>\n",
       "      <td>Great Britain</td>\n",
       "      <td>Artistic Gymnastics</td>\n",
       "    </tr>\n",
       "    <tr>\n",
       "      <th>3665</th>\n",
       "      <td>HALL James</td>\n",
       "      <td>United States of America</td>\n",
       "      <td>Shooting</td>\n",
       "    </tr>\n",
       "  </tbody>\n",
       "</table>\n",
       "</div>"
      ],
      "text/plain": [
       "            Name                   Country                 Play\n",
       "3664  HALL James             Great Britain  Artistic Gymnastics\n",
       "3665  HALL James  United States of America             Shooting"
      ]
     },
     "execution_count": 12,
     "metadata": {},
     "output_type": "execute_result"
    }
   ],
   "source": [
    "athletes[athletes['Name'] == 'HALL James']"
   ]
  },
  {
   "cell_type": "code",
   "execution_count": 13,
   "id": "pressing-chest",
   "metadata": {},
   "outputs": [
    {
     "data": {
      "text/html": [
       "<div>\n",
       "<style scoped>\n",
       "    .dataframe tbody tr th:only-of-type {\n",
       "        vertical-align: middle;\n",
       "    }\n",
       "\n",
       "    .dataframe tbody tr th {\n",
       "        vertical-align: top;\n",
       "    }\n",
       "\n",
       "    .dataframe thead th {\n",
       "        text-align: right;\n",
       "    }\n",
       "</style>\n",
       "<table border=\"1\" class=\"dataframe\">\n",
       "  <thead>\n",
       "    <tr style=\"text-align: right;\">\n",
       "      <th></th>\n",
       "      <th>Name</th>\n",
       "      <th>Country</th>\n",
       "      <th>Play</th>\n",
       "    </tr>\n",
       "  </thead>\n",
       "  <tbody>\n",
       "    <tr>\n",
       "      <th>5522</th>\n",
       "      <td>LI Qian</td>\n",
       "      <td>People's Republic of China</td>\n",
       "      <td>Boxing</td>\n",
       "    </tr>\n",
       "    <tr>\n",
       "      <th>5523</th>\n",
       "      <td>LI Qian</td>\n",
       "      <td>Poland</td>\n",
       "      <td>Table Tennis</td>\n",
       "    </tr>\n",
       "  </tbody>\n",
       "</table>\n",
       "</div>"
      ],
      "text/plain": [
       "         Name                     Country          Play\n",
       "5522  LI Qian  People's Republic of China        Boxing\n",
       "5523  LI Qian                      Poland  Table Tennis"
      ]
     },
     "execution_count": 13,
     "metadata": {},
     "output_type": "execute_result"
    }
   ],
   "source": [
    "athletes[athletes['Name'] == 'LI Qian']"
   ]
  },
  {
   "cell_type": "code",
   "execution_count": 14,
   "id": "important-perception",
   "metadata": {},
   "outputs": [
    {
     "data": {
      "text/html": [
       "<div>\n",
       "<style scoped>\n",
       "    .dataframe tbody tr th:only-of-type {\n",
       "        vertical-align: middle;\n",
       "    }\n",
       "\n",
       "    .dataframe tbody tr th {\n",
       "        vertical-align: top;\n",
       "    }\n",
       "\n",
       "    .dataframe thead th {\n",
       "        text-align: right;\n",
       "    }\n",
       "</style>\n",
       "<table border=\"1\" class=\"dataframe\">\n",
       "  <thead>\n",
       "    <tr style=\"text-align: right;\">\n",
       "      <th></th>\n",
       "      <th>Name</th>\n",
       "      <th>Country</th>\n",
       "      <th>Play</th>\n",
       "    </tr>\n",
       "  </thead>\n",
       "  <tbody>\n",
       "    <tr>\n",
       "      <th>11016</th>\n",
       "      <td>ZHANG Xin</td>\n",
       "      <td>People's Republic of China</td>\n",
       "      <td>Football</td>\n",
       "    </tr>\n",
       "    <tr>\n",
       "      <th>11017</th>\n",
       "      <td>ZHANG Xin</td>\n",
       "      <td>People's Republic of China</td>\n",
       "      <td>Skateboarding</td>\n",
       "    </tr>\n",
       "  </tbody>\n",
       "</table>\n",
       "</div>"
      ],
      "text/plain": [
       "            Name                     Country           Play\n",
       "11016  ZHANG Xin  People's Republic of China       Football\n",
       "11017  ZHANG Xin  People's Republic of China  Skateboarding"
      ]
     },
     "execution_count": 14,
     "metadata": {},
     "output_type": "execute_result"
    }
   ],
   "source": [
    "athletes[athletes['Name'] == 'ZHANG Xin']"
   ]
  },
  {
   "cell_type": "code",
   "execution_count": 15,
   "id": "freelance-lightning",
   "metadata": {},
   "outputs": [
    {
     "data": {
      "text/plain": [
       "St Vincent and the Grenadines    2\n",
       "Bermuda                          2\n",
       "Marshall Islands                 2\n",
       "Saint Kitts and Nevis            2\n",
       "United Republic of Tanzania      2\n",
       "Mauritania                       2\n",
       "Dominica                         2\n",
       "Vanuatu                          2\n",
       "Myanmar                          2\n",
       "Lesotho                          2\n",
       "Name: Country, dtype: int64"
      ]
     },
     "execution_count": 15,
     "metadata": {},
     "output_type": "execute_result"
    }
   ],
   "source": [
    "athletes.Country.value_counts(ascending = True).head(10)"
   ]
  },
  {
   "cell_type": "code",
   "execution_count": 80,
   "id": "pregnant-coffee",
   "metadata": {},
   "outputs": [
    {
     "data": {
      "text/plain": [
       "Cycling BMX Freestyle    19\n",
       "Trampoline Gymnastics    31\n",
       "Sport Climbing           37\n",
       "Surfing                  38\n",
       "Cycling BMX Racing       43\n",
       "Marathon Swimming        49\n",
       "3x3 Basketball           62\n",
       "Modern Pentathlon        69\n",
       "Cycling Mountain Bike    74\n",
       "Skateboarding            77\n",
       "Name: Play, dtype: int64"
      ]
     },
     "execution_count": 80,
     "metadata": {},
     "output_type": "execute_result"
    }
   ],
   "source": [
    "athletes.Play.value_counts(ascending = True).head(10)"
   ]
  },
  {
   "cell_type": "code",
   "execution_count": 17,
   "id": "every-affiliation",
   "metadata": {},
   "outputs": [],
   "source": [
    "# Removing the duplicated record\n",
    "\n",
    "athletes = athletes.drop_duplicates()"
   ]
  },
  {
   "cell_type": "code",
   "execution_count": 18,
   "id": "colored-default",
   "metadata": {},
   "outputs": [
    {
     "data": {
      "text/plain": [
       "(11084, 3)"
      ]
     },
     "execution_count": 18,
     "metadata": {},
     "output_type": "execute_result"
    }
   ],
   "source": [
    "athletes.shape"
   ]
  },
  {
   "cell_type": "code",
   "execution_count": 78,
   "id": "later-carrier",
   "metadata": {},
   "outputs": [
    {
     "data": {
      "text/plain": [
       "11062"
      ]
     },
     "execution_count": 78,
     "metadata": {},
     "output_type": "execute_result"
    }
   ],
   "source": [
    "athletes.Name.nunique()"
   ]
  },
  {
   "cell_type": "code",
   "execution_count": 77,
   "id": "gross-finding",
   "metadata": {},
   "outputs": [
    {
     "data": {
      "text/plain": [
       "46"
      ]
     },
     "execution_count": 77,
     "metadata": {},
     "output_type": "execute_result"
    }
   ],
   "source": [
    "athletes.Play.nunique()"
   ]
  },
  {
   "cell_type": "code",
   "execution_count": 19,
   "id": "undefined-designer",
   "metadata": {},
   "outputs": [],
   "source": [
    "# Storing the cleaed data after removing the duplicates\n",
    "\n",
    "athletes.to_csv('Cleaned_athletes.csv', index=False)"
   ]
  },
  {
   "cell_type": "markdown",
   "id": "disabled-shopping",
   "metadata": {},
   "source": [
    "<a id='Checking Teams Dataset'></a>\n",
    "## Checking Teams Dataset"
   ]
  },
  {
   "cell_type": "code",
   "execution_count": 20,
   "id": "concerned-morning",
   "metadata": {},
   "outputs": [
    {
     "name": "stdout",
     "output_type": "stream",
     "text": [
      "(743, 3)\n"
     ]
    },
    {
     "data": {
      "text/html": [
       "<div>\n",
       "<style scoped>\n",
       "    .dataframe tbody tr th:only-of-type {\n",
       "        vertical-align: middle;\n",
       "    }\n",
       "\n",
       "    .dataframe tbody tr th {\n",
       "        vertical-align: top;\n",
       "    }\n",
       "\n",
       "    .dataframe thead th {\n",
       "        text-align: right;\n",
       "    }\n",
       "</style>\n",
       "<table border=\"1\" class=\"dataframe\">\n",
       "  <thead>\n",
       "    <tr style=\"text-align: right;\">\n",
       "      <th></th>\n",
       "      <th>Name</th>\n",
       "      <th>Play</th>\n",
       "      <th>Event</th>\n",
       "    </tr>\n",
       "  </thead>\n",
       "  <tbody>\n",
       "    <tr>\n",
       "      <th>38</th>\n",
       "      <td>India</td>\n",
       "      <td>Archery</td>\n",
       "      <td>Mixed Team</td>\n",
       "    </tr>\n",
       "    <tr>\n",
       "      <th>481</th>\n",
       "      <td>Azerbaijan</td>\n",
       "      <td>Rhythmic Gymnastics</td>\n",
       "      <td>Group All-Around</td>\n",
       "    </tr>\n",
       "    <tr>\n",
       "      <th>88</th>\n",
       "      <td>Spain</td>\n",
       "      <td>Artistic Gymnastics</td>\n",
       "      <td>Women's Team</td>\n",
       "    </tr>\n",
       "    <tr>\n",
       "      <th>396</th>\n",
       "      <td>Tunisia</td>\n",
       "      <td>Fencing</td>\n",
       "      <td>Women's Sabre Team</td>\n",
       "    </tr>\n",
       "    <tr>\n",
       "      <th>392</th>\n",
       "      <td>ROC</td>\n",
       "      <td>Fencing</td>\n",
       "      <td>Women's ��p�</td>\n",
       "    </tr>\n",
       "  </tbody>\n",
       "</table>\n",
       "</div>"
      ],
      "text/plain": [
       "           Name                 Play               Event\n",
       "38        India              Archery          Mixed Team\n",
       "481  Azerbaijan  Rhythmic Gymnastics    Group All-Around\n",
       "88        Spain  Artistic Gymnastics        Women's Team\n",
       "396     Tunisia              Fencing  Women's Sabre Team\n",
       "392         ROC              Fencing        Women's ��p�"
      ]
     },
     "execution_count": 20,
     "metadata": {},
     "output_type": "execute_result"
    }
   ],
   "source": [
    "teams = pd.read_csv('Teams.csv')\n",
    "print(teams.shape)\n",
    "teams.sample(5)"
   ]
  },
  {
   "cell_type": "code",
   "execution_count": 21,
   "id": "outer-huntington",
   "metadata": {},
   "outputs": [
    {
     "name": "stdout",
     "output_type": "stream",
     "text": [
      "<class 'pandas.core.frame.DataFrame'>\n",
      "RangeIndex: 743 entries, 0 to 742\n",
      "Data columns (total 3 columns):\n",
      " #   Column  Non-Null Count  Dtype \n",
      "---  ------  --------------  ----- \n",
      " 0   Name    743 non-null    object\n",
      " 1   Play    743 non-null    object\n",
      " 2   Event   743 non-null    object\n",
      "dtypes: object(3)\n",
      "memory usage: 17.5+ KB\n"
     ]
    }
   ],
   "source": [
    "teams.info()"
   ]
  },
  {
   "cell_type": "code",
   "execution_count": 71,
   "id": "innocent-removal",
   "metadata": {},
   "outputs": [
    {
     "data": {
      "text/plain": [
       "146"
      ]
     },
     "execution_count": 71,
     "metadata": {},
     "output_type": "execute_result"
    }
   ],
   "source": [
    "teams.Name.nunique()"
   ]
  },
  {
   "cell_type": "code",
   "execution_count": 74,
   "id": "scientific-weather",
   "metadata": {},
   "outputs": [
    {
     "data": {
      "text/plain": [
       "20"
      ]
     },
     "execution_count": 74,
     "metadata": {},
     "output_type": "execute_result"
    }
   ],
   "source": [
    "teams.Play.nunique()"
   ]
  },
  {
   "cell_type": "code",
   "execution_count": 22,
   "id": "concrete-maria",
   "metadata": {},
   "outputs": [
    {
     "data": {
      "text/plain": [
       "Name     0\n",
       "Play     0\n",
       "Event    0\n",
       "dtype: int64"
      ]
     },
     "execution_count": 22,
     "metadata": {},
     "output_type": "execute_result"
    }
   ],
   "source": [
    "teams.isnull().sum()"
   ]
  },
  {
   "cell_type": "code",
   "execution_count": 23,
   "id": "concerned-synthesis",
   "metadata": {},
   "outputs": [
    {
     "data": {
      "text/plain": [
       "0"
      ]
     },
     "execution_count": 23,
     "metadata": {},
     "output_type": "execute_result"
    }
   ],
   "source": [
    "teams.duplicated().sum()"
   ]
  },
  {
   "cell_type": "code",
   "execution_count": 73,
   "id": "hollow-iraqi",
   "metadata": {},
   "outputs": [
    {
     "data": {
      "text/plain": [
       "Ishii/Murakami           1\n",
       "Huberli/Betschart        1\n",
       "WANG Zhen / ZHANG Mo     1\n",
       "Venezuela                1\n",
       "Plavins/Tocs             1\n",
       "                        ..\n",
       "France                  32\n",
       "Australia               32\n",
       "Italy                   34\n",
       "United States           43\n",
       "Japan                   45\n",
       "Name: Name, Length: 146, dtype: int64"
      ]
     },
     "execution_count": 73,
     "metadata": {},
     "output_type": "execute_result"
    }
   ],
   "source": [
    "teams.Name.value_counts(ascending = True)"
   ]
  },
  {
   "cell_type": "code",
   "execution_count": 75,
   "id": "whole-honolulu",
   "metadata": {},
   "outputs": [
    {
     "data": {
      "text/plain": [
       "Baseball/Softball       12\n",
       "Rhythmic Gymnastics     14\n",
       "3x3 Basketball          16\n",
       "Triathlon               18\n",
       "Water Polo              22\n",
       "Artistic Gymnastics     24\n",
       "Hockey                  24\n",
       "Volleyball              24\n",
       "Rugby Sevens            24\n",
       "Handball                24\n",
       "Basketball              24\n",
       "Football                28\n",
       "Artistic Swimming       32\n",
       "Beach Volleyball        48\n",
       "Table Tennis            48\n",
       "Fencing                 52\n",
       "Archery                 53\n",
       "Cycling Track           64\n",
       "Athletics               79\n",
       "Swimming               113\n",
       "Name: Play, dtype: int64"
      ]
     },
     "execution_count": 75,
     "metadata": {},
     "output_type": "execute_result"
    }
   ],
   "source": [
    "teams.Play.value_counts(ascending = True)"
   ]
  },
  {
   "cell_type": "code",
   "execution_count": 26,
   "id": "connected-dance",
   "metadata": {},
   "outputs": [
    {
     "data": {
      "text/plain": [
       "Men's 4 x 200m Freestyle Relay       16\n",
       "Mixed 4 x 100m Medley Relay          16\n",
       "Women's 4 x 200m Freestyle Relay     17\n",
       "Mixed Relay                          18\n",
       "Duet                                 22\n",
       "Mixed Team                           29\n",
       "Women's Team                         40\n",
       "Men's Team                           40\n",
       "Women                               114\n",
       "Men                                 120\n",
       "Name: Event, dtype: int64"
      ]
     },
     "execution_count": 26,
     "metadata": {},
     "output_type": "execute_result"
    }
   ],
   "source": [
    "teams.Event.value_counts(ascending = True).tail(10)"
   ]
  },
  {
   "cell_type": "markdown",
   "id": "first-provider",
   "metadata": {},
   "source": [
    "<a id='Checking Medals Dataset'></a>\n",
    "## Checking Medals Dataset"
   ]
  },
  {
   "cell_type": "code",
   "execution_count": 27,
   "id": "authorized-feedback",
   "metadata": {},
   "outputs": [
    {
     "name": "stdout",
     "output_type": "stream",
     "text": [
      "(93, 5)\n"
     ]
    },
    {
     "data": {
      "text/html": [
       "<div>\n",
       "<style scoped>\n",
       "    .dataframe tbody tr th:only-of-type {\n",
       "        vertical-align: middle;\n",
       "    }\n",
       "\n",
       "    .dataframe tbody tr th {\n",
       "        vertical-align: top;\n",
       "    }\n",
       "\n",
       "    .dataframe thead th {\n",
       "        text-align: right;\n",
       "    }\n",
       "</style>\n",
       "<table border=\"1\" class=\"dataframe\">\n",
       "  <thead>\n",
       "    <tr style=\"text-align: right;\">\n",
       "      <th></th>\n",
       "      <th>Team</th>\n",
       "      <th>Gold</th>\n",
       "      <th>Silver</th>\n",
       "      <th>Bronze</th>\n",
       "      <th>Total</th>\n",
       "    </tr>\n",
       "  </thead>\n",
       "  <tbody>\n",
       "    <tr>\n",
       "      <th>20</th>\n",
       "      <td>Cuba</td>\n",
       "      <td>7</td>\n",
       "      <td>3</td>\n",
       "      <td>5</td>\n",
       "      <td>15</td>\n",
       "    </tr>\n",
       "    <tr>\n",
       "      <th>15</th>\n",
       "      <td>China</td>\n",
       "      <td>38</td>\n",
       "      <td>32</td>\n",
       "      <td>18</td>\n",
       "      <td>88</td>\n",
       "    </tr>\n",
       "    <tr>\n",
       "      <th>59</th>\n",
       "      <td>Namibia</td>\n",
       "      <td>0</td>\n",
       "      <td>1</td>\n",
       "      <td>0</td>\n",
       "      <td>1</td>\n",
       "    </tr>\n",
       "    <tr>\n",
       "      <th>10</th>\n",
       "      <td>Botswana</td>\n",
       "      <td>0</td>\n",
       "      <td>0</td>\n",
       "      <td>1</td>\n",
       "      <td>1</td>\n",
       "    </tr>\n",
       "    <tr>\n",
       "      <th>27</th>\n",
       "      <td>Ethiopia</td>\n",
       "      <td>1</td>\n",
       "      <td>1</td>\n",
       "      <td>2</td>\n",
       "      <td>4</td>\n",
       "    </tr>\n",
       "  </tbody>\n",
       "</table>\n",
       "</div>"
      ],
      "text/plain": [
       "        Team  Gold  Silver  Bronze  Total\n",
       "20      Cuba     7       3       5     15\n",
       "15     China    38      32      18     88\n",
       "59   Namibia     0       1       0      1\n",
       "10  Botswana     0       0       1      1\n",
       "27  Ethiopia     1       1       2      4"
      ]
     },
     "execution_count": 27,
     "metadata": {},
     "output_type": "execute_result"
    }
   ],
   "source": [
    "medals = pd.read_csv('Medals.csv')\n",
    "print(medals.shape)\n",
    "medals.sample(5)"
   ]
  },
  {
   "cell_type": "code",
   "execution_count": 28,
   "id": "generous-wednesday",
   "metadata": {},
   "outputs": [
    {
     "name": "stdout",
     "output_type": "stream",
     "text": [
      "<class 'pandas.core.frame.DataFrame'>\n",
      "RangeIndex: 93 entries, 0 to 92\n",
      "Data columns (total 5 columns):\n",
      " #   Column  Non-Null Count  Dtype \n",
      "---  ------  --------------  ----- \n",
      " 0   Team    93 non-null     object\n",
      " 1   Gold    93 non-null     int64 \n",
      " 2   Silver  93 non-null     int64 \n",
      " 3   Bronze  93 non-null     int64 \n",
      " 4   Total   93 non-null     int64 \n",
      "dtypes: int64(4), object(1)\n",
      "memory usage: 3.8+ KB\n"
     ]
    }
   ],
   "source": [
    "medals.info()"
   ]
  },
  {
   "cell_type": "code",
   "execution_count": 29,
   "id": "stopped-bulletin",
   "metadata": {},
   "outputs": [
    {
     "data": {
      "text/plain": [
       "0"
      ]
     },
     "execution_count": 29,
     "metadata": {},
     "output_type": "execute_result"
    }
   ],
   "source": [
    "medals.duplicated().sum()"
   ]
  },
  {
   "cell_type": "code",
   "execution_count": 87,
   "id": "streaming-piece",
   "metadata": {},
   "outputs": [
    {
     "data": {
      "text/html": [
       "<div>\n",
       "<style scoped>\n",
       "    .dataframe tbody tr th:only-of-type {\n",
       "        vertical-align: middle;\n",
       "    }\n",
       "\n",
       "    .dataframe tbody tr th {\n",
       "        vertical-align: top;\n",
       "    }\n",
       "\n",
       "    .dataframe thead th {\n",
       "        text-align: right;\n",
       "    }\n",
       "</style>\n",
       "<table border=\"1\" class=\"dataframe\">\n",
       "  <thead>\n",
       "    <tr style=\"text-align: right;\">\n",
       "      <th></th>\n",
       "      <th>Gold</th>\n",
       "      <th>Silver</th>\n",
       "      <th>Bronze</th>\n",
       "      <th>Total</th>\n",
       "    </tr>\n",
       "  </thead>\n",
       "  <tbody>\n",
       "    <tr>\n",
       "      <th>count</th>\n",
       "      <td>93.000000</td>\n",
       "      <td>93.000000</td>\n",
       "      <td>93.000000</td>\n",
       "      <td>93.000000</td>\n",
       "    </tr>\n",
       "    <tr>\n",
       "      <th>mean</th>\n",
       "      <td>3.655914</td>\n",
       "      <td>3.634409</td>\n",
       "      <td>4.322581</td>\n",
       "      <td>11.612903</td>\n",
       "    </tr>\n",
       "    <tr>\n",
       "      <th>std</th>\n",
       "      <td>7.022471</td>\n",
       "      <td>6.626339</td>\n",
       "      <td>6.210372</td>\n",
       "      <td>19.091332</td>\n",
       "    </tr>\n",
       "    <tr>\n",
       "      <th>min</th>\n",
       "      <td>0.000000</td>\n",
       "      <td>0.000000</td>\n",
       "      <td>0.000000</td>\n",
       "      <td>1.000000</td>\n",
       "    </tr>\n",
       "    <tr>\n",
       "      <th>25%</th>\n",
       "      <td>0.000000</td>\n",
       "      <td>0.000000</td>\n",
       "      <td>1.000000</td>\n",
       "      <td>2.000000</td>\n",
       "    </tr>\n",
       "    <tr>\n",
       "      <th>50%</th>\n",
       "      <td>1.000000</td>\n",
       "      <td>1.000000</td>\n",
       "      <td>2.000000</td>\n",
       "      <td>4.000000</td>\n",
       "    </tr>\n",
       "    <tr>\n",
       "      <th>75%</th>\n",
       "      <td>3.000000</td>\n",
       "      <td>4.000000</td>\n",
       "      <td>5.000000</td>\n",
       "      <td>11.000000</td>\n",
       "    </tr>\n",
       "    <tr>\n",
       "      <th>max</th>\n",
       "      <td>39.000000</td>\n",
       "      <td>41.000000</td>\n",
       "      <td>33.000000</td>\n",
       "      <td>113.000000</td>\n",
       "    </tr>\n",
       "  </tbody>\n",
       "</table>\n",
       "</div>"
      ],
      "text/plain": [
       "            Gold     Silver     Bronze       Total\n",
       "count  93.000000  93.000000  93.000000   93.000000\n",
       "mean    3.655914   3.634409   4.322581   11.612903\n",
       "std     7.022471   6.626339   6.210372   19.091332\n",
       "min     0.000000   0.000000   0.000000    1.000000\n",
       "25%     0.000000   0.000000   1.000000    2.000000\n",
       "50%     1.000000   1.000000   2.000000    4.000000\n",
       "75%     3.000000   4.000000   5.000000   11.000000\n",
       "max    39.000000  41.000000  33.000000  113.000000"
      ]
     },
     "execution_count": 87,
     "metadata": {},
     "output_type": "execute_result"
    }
   ],
   "source": [
    "medals.describe()"
   ]
  },
  {
   "cell_type": "code",
   "execution_count": 89,
   "id": "reasonable-arrival",
   "metadata": {},
   "outputs": [
    {
     "data": {
      "text/plain": [
       "1080"
      ]
     },
     "execution_count": 89,
     "metadata": {},
     "output_type": "execute_result"
    }
   ],
   "source": [
    "medals.Total.sum()"
   ]
  },
  {
   "cell_type": "code",
   "execution_count": 88,
   "id": "otherwise-request",
   "metadata": {},
   "outputs": [
    {
     "data": {
      "text/plain": [
       "402"
      ]
     },
     "execution_count": 88,
     "metadata": {},
     "output_type": "execute_result"
    }
   ],
   "source": [
    "medals.Bronze.sum()"
   ]
  },
  {
   "cell_type": "code",
   "execution_count": 90,
   "id": "mineral-andrews",
   "metadata": {},
   "outputs": [
    {
     "data": {
      "text/plain": [
       "340"
      ]
     },
     "execution_count": 90,
     "metadata": {},
     "output_type": "execute_result"
    }
   ],
   "source": [
    "medals.Gold.sum()"
   ]
  },
  {
   "cell_type": "markdown",
   "id": "valuable-montreal",
   "metadata": {},
   "source": [
    "<a id='Checking Coaches Dataset'></a>\n",
    "## Checking Coaches Dataset"
   ]
  },
  {
   "cell_type": "code",
   "execution_count": 30,
   "id": "portuguese-sperm",
   "metadata": {},
   "outputs": [
    {
     "name": "stdout",
     "output_type": "stream",
     "text": [
      "(394, 3)\n"
     ]
    },
    {
     "data": {
      "text/html": [
       "<div>\n",
       "<style scoped>\n",
       "    .dataframe tbody tr th:only-of-type {\n",
       "        vertical-align: middle;\n",
       "    }\n",
       "\n",
       "    .dataframe tbody tr th {\n",
       "        vertical-align: top;\n",
       "    }\n",
       "\n",
       "    .dataframe thead th {\n",
       "        text-align: right;\n",
       "    }\n",
       "</style>\n",
       "<table border=\"1\" class=\"dataframe\">\n",
       "  <thead>\n",
       "    <tr style=\"text-align: right;\">\n",
       "      <th></th>\n",
       "      <th>Name</th>\n",
       "      <th>Country</th>\n",
       "      <th>Play</th>\n",
       "    </tr>\n",
       "  </thead>\n",
       "  <tbody>\n",
       "    <tr>\n",
       "      <th>17</th>\n",
       "      <td>ARNAU CREUS Xavier</td>\n",
       "      <td>Japan</td>\n",
       "      <td>Hockey</td>\n",
       "    </tr>\n",
       "    <tr>\n",
       "      <th>334</th>\n",
       "      <td>SMITH Darren</td>\n",
       "      <td>New Zealand</td>\n",
       "      <td>Hockey</td>\n",
       "    </tr>\n",
       "    <tr>\n",
       "      <th>40</th>\n",
       "      <td>BRONDELLO Sandy</td>\n",
       "      <td>Australia</td>\n",
       "      <td>Basketball</td>\n",
       "    </tr>\n",
       "    <tr>\n",
       "      <th>241</th>\n",
       "      <td>MAZZANTI Davide</td>\n",
       "      <td>Italy</td>\n",
       "      <td>Volleyball</td>\n",
       "    </tr>\n",
       "    <tr>\n",
       "      <th>157</th>\n",
       "      <td>HAVENGA Arno</td>\n",
       "      <td>Netherlands</td>\n",
       "      <td>Water Polo</td>\n",
       "    </tr>\n",
       "  </tbody>\n",
       "</table>\n",
       "</div>"
      ],
      "text/plain": [
       "                   Name      Country        Play\n",
       "17   ARNAU CREUS Xavier        Japan      Hockey\n",
       "334        SMITH Darren  New Zealand      Hockey\n",
       "40      BRONDELLO Sandy    Australia  Basketball\n",
       "241     MAZZANTI Davide        Italy  Volleyball\n",
       "157        HAVENGA Arno  Netherlands  Water Polo"
      ]
     },
     "execution_count": 30,
     "metadata": {},
     "output_type": "execute_result"
    }
   ],
   "source": [
    "coaches = pd.read_csv('Coaches.csv')\n",
    "print(coaches.shape)\n",
    "coaches.sample(5)"
   ]
  },
  {
   "cell_type": "code",
   "execution_count": 31,
   "id": "altered-redhead",
   "metadata": {},
   "outputs": [
    {
     "name": "stdout",
     "output_type": "stream",
     "text": [
      "<class 'pandas.core.frame.DataFrame'>\n",
      "RangeIndex: 394 entries, 0 to 393\n",
      "Data columns (total 3 columns):\n",
      " #   Column   Non-Null Count  Dtype \n",
      "---  ------   --------------  ----- \n",
      " 0   Name     394 non-null    object\n",
      " 1   Country  394 non-null    object\n",
      " 2   Play     394 non-null    object\n",
      "dtypes: object(3)\n",
      "memory usage: 9.4+ KB\n"
     ]
    }
   ],
   "source": [
    "coaches.info()"
   ]
  },
  {
   "cell_type": "code",
   "execution_count": 32,
   "id": "subject-heather",
   "metadata": {},
   "outputs": [
    {
     "data": {
      "text/plain": [
       "13"
      ]
     },
     "execution_count": 32,
     "metadata": {},
     "output_type": "execute_result"
    }
   ],
   "source": [
    "coaches.duplicated().sum()"
   ]
  },
  {
   "cell_type": "code",
   "execution_count": 33,
   "id": "perceived-correspondence",
   "metadata": {},
   "outputs": [
    {
     "data": {
      "text/html": [
       "<div>\n",
       "<style scoped>\n",
       "    .dataframe tbody tr th:only-of-type {\n",
       "        vertical-align: middle;\n",
       "    }\n",
       "\n",
       "    .dataframe tbody tr th {\n",
       "        vertical-align: top;\n",
       "    }\n",
       "\n",
       "    .dataframe thead th {\n",
       "        text-align: right;\n",
       "    }\n",
       "</style>\n",
       "<table border=\"1\" class=\"dataframe\">\n",
       "  <thead>\n",
       "    <tr style=\"text-align: right;\">\n",
       "      <th></th>\n",
       "      <th>Name</th>\n",
       "      <th>Country</th>\n",
       "      <th>Play</th>\n",
       "    </tr>\n",
       "  </thead>\n",
       "  <tbody>\n",
       "    <tr>\n",
       "      <th>57</th>\n",
       "      <td>CHEPAK Anastasiya</td>\n",
       "      <td>Egypt</td>\n",
       "      <td>Artistic Swimming</td>\n",
       "    </tr>\n",
       "    <tr>\n",
       "      <th>59</th>\n",
       "      <td>CHERNETSKA Natalia</td>\n",
       "      <td>Greece</td>\n",
       "      <td>Artistic Swimming</td>\n",
       "    </tr>\n",
       "    <tr>\n",
       "      <th>93</th>\n",
       "      <td>ELAFANDI Nour</td>\n",
       "      <td>Egypt</td>\n",
       "      <td>Artistic Swimming</td>\n",
       "    </tr>\n",
       "    <tr>\n",
       "      <th>103</th>\n",
       "      <td>FARINELLI Roberta</td>\n",
       "      <td>Italy</td>\n",
       "      <td>Artistic Swimming</td>\n",
       "    </tr>\n",
       "    <tr>\n",
       "      <th>116</th>\n",
       "      <td>FUJIKI Mayuko</td>\n",
       "      <td>Spain</td>\n",
       "      <td>Artistic Swimming</td>\n",
       "    </tr>\n",
       "    <tr>\n",
       "      <th>127</th>\n",
       "      <td>GIALLOMBARDO Patrizia</td>\n",
       "      <td>Italy</td>\n",
       "      <td>Artistic Swimming</td>\n",
       "    </tr>\n",
       "    <tr>\n",
       "      <th>144</th>\n",
       "      <td>GUERRERO Rolando</td>\n",
       "      <td>Mexico</td>\n",
       "      <td>Baseball/Softball</td>\n",
       "    </tr>\n",
       "    <tr>\n",
       "      <th>263</th>\n",
       "      <td>MONTICO Loredana</td>\n",
       "      <td>Australia</td>\n",
       "      <td>Artistic Swimming</td>\n",
       "    </tr>\n",
       "    <tr>\n",
       "      <th>305</th>\n",
       "      <td>REQUENA PERICAS Judit</td>\n",
       "      <td>Spain</td>\n",
       "      <td>Artistic Swimming</td>\n",
       "    </tr>\n",
       "    <tr>\n",
       "      <th>307</th>\n",
       "      <td>RETEGUI Carlos Jose</td>\n",
       "      <td>Argentina</td>\n",
       "      <td>Hockey</td>\n",
       "    </tr>\n",
       "    <tr>\n",
       "      <th>346</th>\n",
       "      <td>SZAUDER Gabor</td>\n",
       "      <td>Canada</td>\n",
       "      <td>Artistic Swimming</td>\n",
       "    </tr>\n",
       "    <tr>\n",
       "      <th>353</th>\n",
       "      <td>TARRES CAMPA Ana</td>\n",
       "      <td>Greece</td>\n",
       "      <td>Artistic Swimming</td>\n",
       "    </tr>\n",
       "    <tr>\n",
       "      <th>376</th>\n",
       "      <td>WANG Jie</td>\n",
       "      <td>People's Republic of China</td>\n",
       "      <td>Artistic Swimming</td>\n",
       "    </tr>\n",
       "  </tbody>\n",
       "</table>\n",
       "</div>"
      ],
      "text/plain": [
       "                      Name                     Country               Play\n",
       "57       CHEPAK Anastasiya                       Egypt  Artistic Swimming\n",
       "59      CHERNETSKA Natalia                      Greece  Artistic Swimming\n",
       "93           ELAFANDI Nour                       Egypt  Artistic Swimming\n",
       "103      FARINELLI Roberta                       Italy  Artistic Swimming\n",
       "116          FUJIKI Mayuko                       Spain  Artistic Swimming\n",
       "127  GIALLOMBARDO Patrizia                       Italy  Artistic Swimming\n",
       "144       GUERRERO Rolando                      Mexico  Baseball/Softball\n",
       "263       MONTICO Loredana                   Australia  Artistic Swimming\n",
       "305  REQUENA PERICAS Judit                       Spain  Artistic Swimming\n",
       "307    RETEGUI Carlos Jose                   Argentina             Hockey\n",
       "346          SZAUDER Gabor                      Canada  Artistic Swimming\n",
       "353       TARRES CAMPA Ana                      Greece  Artistic Swimming\n",
       "376               WANG Jie  People's Republic of China  Artistic Swimming"
      ]
     },
     "execution_count": 33,
     "metadata": {},
     "output_type": "execute_result"
    }
   ],
   "source": [
    "coaches[coaches.duplicated()]"
   ]
  },
  {
   "cell_type": "code",
   "execution_count": 34,
   "id": "accredited-economy",
   "metadata": {},
   "outputs": [
    {
     "data": {
      "text/html": [
       "<div>\n",
       "<style scoped>\n",
       "    .dataframe tbody tr th:only-of-type {\n",
       "        vertical-align: middle;\n",
       "    }\n",
       "\n",
       "    .dataframe tbody tr th {\n",
       "        vertical-align: top;\n",
       "    }\n",
       "\n",
       "    .dataframe thead th {\n",
       "        text-align: right;\n",
       "    }\n",
       "</style>\n",
       "<table border=\"1\" class=\"dataframe\">\n",
       "  <thead>\n",
       "    <tr style=\"text-align: right;\">\n",
       "      <th></th>\n",
       "      <th>Name</th>\n",
       "      <th>Country</th>\n",
       "      <th>Play</th>\n",
       "    </tr>\n",
       "  </thead>\n",
       "  <tbody>\n",
       "    <tr>\n",
       "      <th>56</th>\n",
       "      <td>CHEPAK Anastasiya</td>\n",
       "      <td>Egypt</td>\n",
       "      <td>Artistic Swimming</td>\n",
       "    </tr>\n",
       "    <tr>\n",
       "      <th>57</th>\n",
       "      <td>CHEPAK Anastasiya</td>\n",
       "      <td>Egypt</td>\n",
       "      <td>Artistic Swimming</td>\n",
       "    </tr>\n",
       "  </tbody>\n",
       "</table>\n",
       "</div>"
      ],
      "text/plain": [
       "                 Name Country               Play\n",
       "56  CHEPAK Anastasiya   Egypt  Artistic Swimming\n",
       "57  CHEPAK Anastasiya   Egypt  Artistic Swimming"
      ]
     },
     "execution_count": 34,
     "metadata": {},
     "output_type": "execute_result"
    }
   ],
   "source": [
    "coaches[coaches['Name'] == 'CHEPAK Anastasiya']"
   ]
  },
  {
   "cell_type": "code",
   "execution_count": 35,
   "id": "junior-bristol",
   "metadata": {},
   "outputs": [
    {
     "data": {
      "text/html": [
       "<div>\n",
       "<style scoped>\n",
       "    .dataframe tbody tr th:only-of-type {\n",
       "        vertical-align: middle;\n",
       "    }\n",
       "\n",
       "    .dataframe tbody tr th {\n",
       "        vertical-align: top;\n",
       "    }\n",
       "\n",
       "    .dataframe thead th {\n",
       "        text-align: right;\n",
       "    }\n",
       "</style>\n",
       "<table border=\"1\" class=\"dataframe\">\n",
       "  <thead>\n",
       "    <tr style=\"text-align: right;\">\n",
       "      <th></th>\n",
       "      <th>Name</th>\n",
       "      <th>Country</th>\n",
       "      <th>Play</th>\n",
       "    </tr>\n",
       "  </thead>\n",
       "  <tbody>\n",
       "    <tr>\n",
       "      <th>345</th>\n",
       "      <td>SZAUDER Gabor</td>\n",
       "      <td>Canada</td>\n",
       "      <td>Artistic Swimming</td>\n",
       "    </tr>\n",
       "    <tr>\n",
       "      <th>346</th>\n",
       "      <td>SZAUDER Gabor</td>\n",
       "      <td>Canada</td>\n",
       "      <td>Artistic Swimming</td>\n",
       "    </tr>\n",
       "  </tbody>\n",
       "</table>\n",
       "</div>"
      ],
      "text/plain": [
       "              Name Country               Play\n",
       "345  SZAUDER Gabor  Canada  Artistic Swimming\n",
       "346  SZAUDER Gabor  Canada  Artistic Swimming"
      ]
     },
     "execution_count": 35,
     "metadata": {},
     "output_type": "execute_result"
    }
   ],
   "source": [
    "coaches[coaches['Name'] == 'SZAUDER Gabor']"
   ]
  },
  {
   "cell_type": "code",
   "execution_count": 36,
   "id": "removable-trouble",
   "metadata": {},
   "outputs": [
    {
     "data": {
      "text/html": [
       "<div>\n",
       "<style scoped>\n",
       "    .dataframe tbody tr th:only-of-type {\n",
       "        vertical-align: middle;\n",
       "    }\n",
       "\n",
       "    .dataframe tbody tr th {\n",
       "        vertical-align: top;\n",
       "    }\n",
       "\n",
       "    .dataframe thead th {\n",
       "        text-align: right;\n",
       "    }\n",
       "</style>\n",
       "<table border=\"1\" class=\"dataframe\">\n",
       "  <thead>\n",
       "    <tr style=\"text-align: right;\">\n",
       "      <th></th>\n",
       "      <th>Name</th>\n",
       "      <th>Country</th>\n",
       "      <th>Play</th>\n",
       "    </tr>\n",
       "  </thead>\n",
       "  <tbody>\n",
       "    <tr>\n",
       "      <th>306</th>\n",
       "      <td>RETEGUI Carlos Jose</td>\n",
       "      <td>Argentina</td>\n",
       "      <td>Hockey</td>\n",
       "    </tr>\n",
       "    <tr>\n",
       "      <th>307</th>\n",
       "      <td>RETEGUI Carlos Jose</td>\n",
       "      <td>Argentina</td>\n",
       "      <td>Hockey</td>\n",
       "    </tr>\n",
       "  </tbody>\n",
       "</table>\n",
       "</div>"
      ],
      "text/plain": [
       "                    Name    Country    Play\n",
       "306  RETEGUI Carlos Jose  Argentina  Hockey\n",
       "307  RETEGUI Carlos Jose  Argentina  Hockey"
      ]
     },
     "execution_count": 36,
     "metadata": {},
     "output_type": "execute_result"
    }
   ],
   "source": [
    "coaches[coaches['Name'] == 'RETEGUI Carlos Jose']"
   ]
  },
  {
   "cell_type": "code",
   "execution_count": 37,
   "id": "finite-uncertainty",
   "metadata": {},
   "outputs": [
    {
     "data": {
      "text/plain": [
       "OLOO Felix               1\n",
       "SUNDHAGE Pia Mariane     1\n",
       "RETEGUI Carlos Jose      2\n",
       "MONTICO Loredana         2\n",
       "CHEPAK Anastasiya        2\n",
       "GUERRERO Rolando         2\n",
       "WANG Jie                 2\n",
       "CHERNETSKA Natalia       2\n",
       "ELAFANDI Nour            2\n",
       "REQUENA PERICAS Judit    2\n",
       "GIALLOMBARDO Patrizia    2\n",
       "FUJIKI Mayuko            2\n",
       "TARRES CAMPA Ana         2\n",
       "SZAUDER Gabor            2\n",
       "FARINELLI Roberta        2\n",
       "Name: Name, dtype: int64"
      ]
     },
     "execution_count": 37,
     "metadata": {},
     "output_type": "execute_result"
    }
   ],
   "source": [
    "coaches.Name.value_counts(ascending = True).tail(15)"
   ]
  },
  {
   "cell_type": "code",
   "execution_count": 38,
   "id": "lesbian-preservation",
   "metadata": {},
   "outputs": [
    {
     "data": {
      "text/plain": [
       "Tunisia                     1\n",
       "Honduras                    1\n",
       "Cambodia                    1\n",
       "Bahrain                     1\n",
       "Turkey                      1\n",
       "Cote d'Ivoir                1\n",
       "Liechtenstein               1\n",
       "Slovakia                    1\n",
       "Angola                      1\n",
       "Portugal                    1\n",
       "Belarus                     1\n",
       "Croatia                     1\n",
       "Fiji                        2\n",
       "Israel                      2\n",
       "Kazakhstan                  2\n",
       "Islamic Republic of Iran    2\n",
       "Romania                     2\n",
       "Colombia                    2\n",
       "Denmark                     2\n",
       "Saudi Arabia                2\n",
       "Name: Country, dtype: int64"
      ]
     },
     "execution_count": 38,
     "metadata": {},
     "output_type": "execute_result"
    }
   ],
   "source": [
    "coaches.Country.value_counts(ascending = True).head(20)"
   ]
  },
  {
   "cell_type": "code",
   "execution_count": 39,
   "id": "israeli-membership",
   "metadata": {},
   "outputs": [
    {
     "data": {
      "text/plain": [
       "Water Polo           22\n",
       "Rugby Sevens         25\n",
       "Baseball/Softball    26\n",
       "Handball             29\n",
       "Hockey               45\n",
       "Volleyball           45\n",
       "Football             59\n",
       "Artistic Swimming    69\n",
       "Basketball           74\n",
       "Name: Play, dtype: int64"
      ]
     },
     "execution_count": 39,
     "metadata": {},
     "output_type": "execute_result"
    }
   ],
   "source": [
    "coaches.Play.value_counts(ascending = True).head(10)"
   ]
  },
  {
   "cell_type": "code",
   "execution_count": 40,
   "id": "swedish-ordinance",
   "metadata": {},
   "outputs": [
    {
     "data": {
      "text/plain": [
       "(381, 3)"
      ]
     },
     "execution_count": 40,
     "metadata": {},
     "output_type": "execute_result"
    }
   ],
   "source": [
    "# Removing the duplicated record\n",
    "\n",
    "coaches = coaches.drop_duplicates()\n",
    "coaches.shape"
   ]
  },
  {
   "cell_type": "code",
   "execution_count": 41,
   "id": "advance-counter",
   "metadata": {},
   "outputs": [],
   "source": [
    "# Storing the cleaed data after removing the duplicates\n",
    "\n",
    "coaches.to_csv('Cleaned_coashes.csv', index=False)"
   ]
  },
  {
   "cell_type": "markdown",
   "id": "drawn-replication",
   "metadata": {},
   "source": [
    "<a id='Checking Gender Dataset'></a>\n",
    "## Checking Gender Dataset"
   ]
  },
  {
   "cell_type": "code",
   "execution_count": 42,
   "id": "willing-america",
   "metadata": {},
   "outputs": [
    {
     "name": "stdout",
     "output_type": "stream",
     "text": [
      "(46, 4)\n"
     ]
    },
    {
     "data": {
      "text/html": [
       "<div>\n",
       "<style scoped>\n",
       "    .dataframe tbody tr th:only-of-type {\n",
       "        vertical-align: middle;\n",
       "    }\n",
       "\n",
       "    .dataframe tbody tr th {\n",
       "        vertical-align: top;\n",
       "    }\n",
       "\n",
       "    .dataframe thead th {\n",
       "        text-align: right;\n",
       "    }\n",
       "</style>\n",
       "<table border=\"1\" class=\"dataframe\">\n",
       "  <thead>\n",
       "    <tr style=\"text-align: right;\">\n",
       "      <th></th>\n",
       "      <th>Play</th>\n",
       "      <th>Female</th>\n",
       "      <th>Male</th>\n",
       "      <th>Total</th>\n",
       "    </tr>\n",
       "  </thead>\n",
       "  <tbody>\n",
       "    <tr>\n",
       "      <th>43</th>\n",
       "      <td>Water Polo</td>\n",
       "      <td>122</td>\n",
       "      <td>146</td>\n",
       "      <td>268</td>\n",
       "    </tr>\n",
       "    <tr>\n",
       "      <th>36</th>\n",
       "      <td>Swimming</td>\n",
       "      <td>361</td>\n",
       "      <td>418</td>\n",
       "      <td>779</td>\n",
       "    </tr>\n",
       "    <tr>\n",
       "      <th>41</th>\n",
       "      <td>Triathlon</td>\n",
       "      <td>55</td>\n",
       "      <td>55</td>\n",
       "      <td>110</td>\n",
       "    </tr>\n",
       "    <tr>\n",
       "      <th>8</th>\n",
       "      <td>Beach Volleyball</td>\n",
       "      <td>48</td>\n",
       "      <td>48</td>\n",
       "      <td>96</td>\n",
       "    </tr>\n",
       "    <tr>\n",
       "      <th>3</th>\n",
       "      <td>Artistic Swimming</td>\n",
       "      <td>105</td>\n",
       "      <td>0</td>\n",
       "      <td>105</td>\n",
       "    </tr>\n",
       "  </tbody>\n",
       "</table>\n",
       "</div>"
      ],
      "text/plain": [
       "                 Play  Female  Male  Total\n",
       "43         Water Polo     122   146    268\n",
       "36           Swimming     361   418    779\n",
       "41          Triathlon      55    55    110\n",
       "8    Beach Volleyball      48    48     96\n",
       "3   Artistic Swimming     105     0    105"
      ]
     },
     "execution_count": 42,
     "metadata": {},
     "output_type": "execute_result"
    }
   ],
   "source": [
    "gender = pd.read_csv('Gender.csv')\n",
    "print(gender.shape)\n",
    "gender.sample(5)"
   ]
  },
  {
   "cell_type": "code",
   "execution_count": 43,
   "id": "english-mobile",
   "metadata": {},
   "outputs": [
    {
     "name": "stdout",
     "output_type": "stream",
     "text": [
      "<class 'pandas.core.frame.DataFrame'>\n",
      "RangeIndex: 46 entries, 0 to 45\n",
      "Data columns (total 4 columns):\n",
      " #   Column  Non-Null Count  Dtype \n",
      "---  ------  --------------  ----- \n",
      " 0   Play    46 non-null     object\n",
      " 1   Female  46 non-null     int64 \n",
      " 2   Male    46 non-null     int64 \n",
      " 3   Total   46 non-null     int64 \n",
      "dtypes: int64(3), object(1)\n",
      "memory usage: 1.6+ KB\n"
     ]
    }
   ],
   "source": [
    "gender.info()"
   ]
  },
  {
   "cell_type": "code",
   "execution_count": 44,
   "id": "binary-jungle",
   "metadata": {},
   "outputs": [
    {
     "data": {
      "text/plain": [
       "0"
      ]
     },
     "execution_count": 44,
     "metadata": {},
     "output_type": "execute_result"
    }
   ],
   "source": [
    "gender.duplicated().sum()"
   ]
  },
  {
   "cell_type": "code",
   "execution_count": 45,
   "id": "transsexual-modern",
   "metadata": {},
   "outputs": [
    {
     "data": {
      "text/plain": [
       "10     1\n",
       "969    1\n",
       "90     2\n",
       "192    2\n",
       "144    2\n",
       "20     2\n",
       "86     2\n",
       "98     2\n",
       "40     2\n",
       "96     2\n",
       "Name: Female, dtype: int64"
      ]
     },
     "execution_count": 45,
     "metadata": {},
     "output_type": "execute_result"
    }
   ],
   "source": [
    "gender.Female.value_counts(ascending = True).tail(10)"
   ]
  },
  {
   "cell_type": "code",
   "execution_count": 46,
   "id": "precise-atlantic",
   "metadata": {},
   "outputs": [
    {
     "data": {
      "text/plain": [
       "215    1\n",
       "350    1\n",
       "130    1\n",
       "197    1\n",
       "198    1\n",
       "288    2\n",
       "40     2\n",
       "96     2\n",
       "82     2\n",
       "289    2\n",
       "Name: Total, dtype: int64"
      ]
     },
     "execution_count": 46,
     "metadata": {},
     "output_type": "execute_result"
    }
   ],
   "source": [
    "gender.Total.value_counts(ascending = True).tail(10)"
   ]
  },
  {
   "cell_type": "code",
   "execution_count": 63,
   "id": "leading-second",
   "metadata": {},
   "outputs": [
    {
     "data": {
      "text/plain": [
       "5432"
      ]
     },
     "execution_count": 63,
     "metadata": {},
     "output_type": "execute_result"
    }
   ],
   "source": [
    "gender.Female.sum()"
   ]
  },
  {
   "cell_type": "code",
   "execution_count": 64,
   "id": "middle-spine",
   "metadata": {},
   "outputs": [
    {
     "data": {
      "text/plain": [
       "5884"
      ]
     },
     "execution_count": 64,
     "metadata": {},
     "output_type": "execute_result"
    }
   ],
   "source": [
    "gender.Male.sum()"
   ]
  },
  {
   "cell_type": "code",
   "execution_count": 91,
   "id": "yellow-fundamental",
   "metadata": {},
   "outputs": [
    {
     "data": {
      "text/plain": [
       "11316"
      ]
     },
     "execution_count": 91,
     "metadata": {},
     "output_type": "execute_result"
    }
   ],
   "source": [
    "gender.Total.sum()"
   ]
  },
  {
   "cell_type": "code",
   "execution_count": 94,
   "id": "received-plant",
   "metadata": {},
   "outputs": [
    {
     "data": {
      "text/plain": [
       "46"
      ]
     },
     "execution_count": 94,
     "metadata": {},
     "output_type": "execute_result"
    }
   ],
   "source": [
    "gender.Play.nunique()"
   ]
  },
  {
   "cell_type": "markdown",
   "id": "gorgeous-techno",
   "metadata": {},
   "source": [
    "<a id='Checking Country Medals from 1896 to 2020 Dataset'></a>\n",
    "## Checking Country Medals from 1896 to 2020 Dataset"
   ]
  },
  {
   "cell_type": "code",
   "execution_count": 47,
   "id": "ahead-clothing",
   "metadata": {},
   "outputs": [
    {
     "name": "stdout",
     "output_type": "stream",
     "text": [
      "(1344, 1)\n"
     ]
    },
    {
     "data": {
      "text/html": [
       "<div>\n",
       "<style scoped>\n",
       "    .dataframe tbody tr th:only-of-type {\n",
       "        vertical-align: middle;\n",
       "    }\n",
       "\n",
       "    .dataframe tbody tr th {\n",
       "        vertical-align: top;\n",
       "    }\n",
       "\n",
       "    .dataframe thead th {\n",
       "        text-align: right;\n",
       "    }\n",
       "</style>\n",
       "<table border=\"1\" class=\"dataframe\">\n",
       "  <thead>\n",
       "    <tr style=\"text-align: right;\">\n",
       "      <th></th>\n",
       "      <th>Year;Country_Code;Country_Name;Host_city;Host_country;Gold;Silver;Bronze</th>\n",
       "    </tr>\n",
       "  </thead>\n",
       "  <tbody>\n",
       "    <tr>\n",
       "      <th>1092</th>\n",
       "      <td>1992;(TCH);Czechoslovakia;Barcelona;Spain;4;2;1</td>\n",
       "    </tr>\n",
       "    <tr>\n",
       "      <th>1340</th>\n",
       "      <td>1936;(BEL);Belgium;Berlin;Germany;0;0;2</td>\n",
       "    </tr>\n",
       "    <tr>\n",
       "      <th>425</th>\n",
       "      <td>1964;(DEN);Denmark;Tokyo;Japan;2;1;3</td>\n",
       "    </tr>\n",
       "    <tr>\n",
       "      <th>651</th>\n",
       "      <td>2016;;Bulgaria;Rio de Janeiro;Brazil;0;1;2</td>\n",
       "    </tr>\n",
       "    <tr>\n",
       "      <th>1258</th>\n",
       "      <td>1952;(LUX);Luxembourg;Helsinki;Finland;1;0;0</td>\n",
       "    </tr>\n",
       "  </tbody>\n",
       "</table>\n",
       "</div>"
      ],
      "text/plain": [
       "     Year;Country_Code;Country_Name;Host_city;Host_country;Gold;Silver;Bronze\n",
       "1092    1992;(TCH);Czechoslovakia;Barcelona;Spain;4;2;1                      \n",
       "1340            1936;(BEL);Belgium;Berlin;Germany;0;0;2                      \n",
       "425                1964;(DEN);Denmark;Tokyo;Japan;2;1;3                      \n",
       "651          2016;;Bulgaria;Rio de Janeiro;Brazil;0;1;2                      \n",
       "1258       1952;(LUX);Luxembourg;Helsinki;Finland;1;0;0                      "
      ]
     },
     "execution_count": 47,
     "metadata": {},
     "output_type": "execute_result"
    }
   ],
   "source": [
    "all_time_country_medals = pd.read_csv('Country_Medals_from_1896_to_2020.csv')\n",
    "print(all_time_country_medals.shape)\n",
    "all_time_country_medals.sample(5)"
   ]
  },
  {
   "cell_type": "code",
   "execution_count": 48,
   "id": "radical-diary",
   "metadata": {},
   "outputs": [],
   "source": [
    "all_time_country_medals = all_time_country_medals.rename(columns = {'Year;Country_Code;Country_Name;Host_city;Host_country;Gold;Silver;Bronze': 'all_data'}, inplace = False)"
   ]
  },
  {
   "cell_type": "code",
   "execution_count": 49,
   "id": "perceived-counter",
   "metadata": {},
   "outputs": [
    {
     "data": {
      "text/plain": [
       "['Year',\n",
       " 'Country_Code',\n",
       " 'Country_Name',\n",
       " 'Host_city',\n",
       " 'Host_country',\n",
       " 'Gold',\n",
       " 'Silver',\n",
       " 'Bronze']"
      ]
     },
     "execution_count": 49,
     "metadata": {},
     "output_type": "execute_result"
    }
   ],
   "source": [
    "'Year;Country_Code;Country_Name;Host_city;Host_country;Gold;Silver;Bronze'.split(';')"
   ]
  },
  {
   "cell_type": "code",
   "execution_count": 50,
   "id": "bridal-centre",
   "metadata": {},
   "outputs": [],
   "source": [
    "def Year(x):\n",
    "    return x.split(';')[0]\n",
    "\n",
    "def Country_Code(x):\n",
    "    return x.split(';')[1]\n",
    "\n",
    "def Country_Name(x):\n",
    "    return x.split(';')[2]\n",
    "\n",
    "def Host_city(x):\n",
    "    return x.split(';')[3]\n",
    "\n",
    "def Host_country(x):\n",
    "    return x.split(';')[4]\n",
    "\n",
    "def Gold(x):\n",
    "    return x.split(';')[5]\n",
    "\n",
    "def Silver(x):\n",
    "    return x.split(';')[6]\n",
    "\n",
    "def Bronze(x):\n",
    "    return x.split(';')[7]"
   ]
  },
  {
   "cell_type": "code",
   "execution_count": 51,
   "id": "crucial-vault",
   "metadata": {},
   "outputs": [],
   "source": [
    "all_time_country_medals['Year']=all_time_country_medals['all_data'].apply(Year)\n",
    "all_time_country_medals['Country_Code']=all_time_country_medals['all_data'].apply(Country_Code)\n",
    "all_time_country_medals['Country_Name']=all_time_country_medals['all_data'].apply(Country_Name)\n",
    "all_time_country_medals['Host_city']=all_time_country_medals['all_data'].apply(Host_city)\n",
    "all_time_country_medals['Host_country']=all_time_country_medals['all_data'].apply(Host_country)\n",
    "all_time_country_medals['Gold']=all_time_country_medals['all_data'].apply(Gold).astype(int)\n",
    "all_time_country_medals['Silver']=all_time_country_medals['all_data'].apply(Silver).astype(int)\n",
    "all_time_country_medals['Bronze']=all_time_country_medals['all_data'].apply(Bronze).astype(int)\n",
    "all_time_country_medals['Total']=all_time_country_medals['Gold']+all_time_country_medals['Silver']+all_time_country_medals['Bronze']"
   ]
  },
  {
   "cell_type": "code",
   "execution_count": 52,
   "id": "north-housing",
   "metadata": {},
   "outputs": [
    {
     "name": "stdout",
     "output_type": "stream",
     "text": [
      "(1344, 10)\n"
     ]
    },
    {
     "data": {
      "text/html": [
       "<div>\n",
       "<style scoped>\n",
       "    .dataframe tbody tr th:only-of-type {\n",
       "        vertical-align: middle;\n",
       "    }\n",
       "\n",
       "    .dataframe tbody tr th {\n",
       "        vertical-align: top;\n",
       "    }\n",
       "\n",
       "    .dataframe thead th {\n",
       "        text-align: right;\n",
       "    }\n",
       "</style>\n",
       "<table border=\"1\" class=\"dataframe\">\n",
       "  <thead>\n",
       "    <tr style=\"text-align: right;\">\n",
       "      <th></th>\n",
       "      <th>all_data</th>\n",
       "      <th>Year</th>\n",
       "      <th>Country_Code</th>\n",
       "      <th>Country_Name</th>\n",
       "      <th>Host_city</th>\n",
       "      <th>Host_country</th>\n",
       "      <th>Gold</th>\n",
       "      <th>Silver</th>\n",
       "      <th>Bronze</th>\n",
       "      <th>Total</th>\n",
       "    </tr>\n",
       "  </thead>\n",
       "  <tbody>\n",
       "    <tr>\n",
       "      <th>255</th>\n",
       "      <td>1980;(BRA);Brazil;Moscow;Soviet Union;2;0;2</td>\n",
       "      <td>1980</td>\n",
       "      <td>(BRA)</td>\n",
       "      <td>Brazil</td>\n",
       "      <td>Moscow</td>\n",
       "      <td>Soviet Union</td>\n",
       "      <td>2</td>\n",
       "      <td>0</td>\n",
       "      <td>2</td>\n",
       "      <td>4</td>\n",
       "    </tr>\n",
       "    <tr>\n",
       "      <th>185</th>\n",
       "      <td>1896;(GBR);Great Britain;Athens;Greece;2;3;2</td>\n",
       "      <td>1896</td>\n",
       "      <td>(GBR)</td>\n",
       "      <td>Great Britain</td>\n",
       "      <td>Athens</td>\n",
       "      <td>Greece</td>\n",
       "      <td>2</td>\n",
       "      <td>3</td>\n",
       "      <td>2</td>\n",
       "      <td>7</td>\n",
       "    </tr>\n",
       "    <tr>\n",
       "      <th>1121</th>\n",
       "      <td>1992;(BEL);Belgium;Barcelona;Spain;0;1;2</td>\n",
       "      <td>1992</td>\n",
       "      <td>(BEL)</td>\n",
       "      <td>Belgium</td>\n",
       "      <td>Barcelona</td>\n",
       "      <td>Spain</td>\n",
       "      <td>0</td>\n",
       "      <td>1</td>\n",
       "      <td>2</td>\n",
       "      <td>3</td>\n",
       "    </tr>\n",
       "    <tr>\n",
       "      <th>822</th>\n",
       "      <td>2008;(IRL);Ireland;Beijing;China;0;1;2</td>\n",
       "      <td>2008</td>\n",
       "      <td>(IRL)</td>\n",
       "      <td>Ireland</td>\n",
       "      <td>Beijing</td>\n",
       "      <td>China</td>\n",
       "      <td>0</td>\n",
       "      <td>1</td>\n",
       "      <td>2</td>\n",
       "      <td>3</td>\n",
       "    </tr>\n",
       "    <tr>\n",
       "      <th>1308</th>\n",
       "      <td>1948;(BRA);Brazil;London;Great Britain;0;0;1</td>\n",
       "      <td>1948</td>\n",
       "      <td>(BRA)</td>\n",
       "      <td>Brazil</td>\n",
       "      <td>London</td>\n",
       "      <td>Great Britain</td>\n",
       "      <td>0</td>\n",
       "      <td>0</td>\n",
       "      <td>1</td>\n",
       "      <td>1</td>\n",
       "    </tr>\n",
       "  </tbody>\n",
       "</table>\n",
       "</div>"
      ],
      "text/plain": [
       "                                          all_data  Year Country_Code  \\\n",
       "255    1980;(BRA);Brazil;Moscow;Soviet Union;2;0;2  1980        (BRA)   \n",
       "185   1896;(GBR);Great Britain;Athens;Greece;2;3;2  1896        (GBR)   \n",
       "1121      1992;(BEL);Belgium;Barcelona;Spain;0;1;2  1992        (BEL)   \n",
       "822         2008;(IRL);Ireland;Beijing;China;0;1;2  2008        (IRL)   \n",
       "1308  1948;(BRA);Brazil;London;Great Britain;0;0;1  1948        (BRA)   \n",
       "\n",
       "       Country_Name  Host_city   Host_country  Gold  Silver  Bronze  Total  \n",
       "255          Brazil     Moscow   Soviet Union     2       0       2      4  \n",
       "185   Great Britain     Athens         Greece     2       3       2      7  \n",
       "1121        Belgium  Barcelona          Spain     0       1       2      3  \n",
       "822         Ireland    Beijing          China     0       1       2      3  \n",
       "1308         Brazil     London  Great Britain     0       0       1      1  "
      ]
     },
     "execution_count": 52,
     "metadata": {},
     "output_type": "execute_result"
    }
   ],
   "source": [
    "print(all_time_country_medals.shape)\n",
    "all_time_country_medals.sample(5)"
   ]
  },
  {
   "cell_type": "code",
   "execution_count": 53,
   "id": "related-prague",
   "metadata": {},
   "outputs": [],
   "source": [
    "all_time_country_medals=all_time_country_medals.drop(['all_data'],axis=1)\n"
   ]
  },
  {
   "cell_type": "code",
   "execution_count": 54,
   "id": "further-baltimore",
   "metadata": {},
   "outputs": [
    {
     "data": {
      "text/html": [
       "<div>\n",
       "<style scoped>\n",
       "    .dataframe tbody tr th:only-of-type {\n",
       "        vertical-align: middle;\n",
       "    }\n",
       "\n",
       "    .dataframe tbody tr th {\n",
       "        vertical-align: top;\n",
       "    }\n",
       "\n",
       "    .dataframe thead th {\n",
       "        text-align: right;\n",
       "    }\n",
       "</style>\n",
       "<table border=\"1\" class=\"dataframe\">\n",
       "  <thead>\n",
       "    <tr style=\"text-align: right;\">\n",
       "      <th></th>\n",
       "      <th>Year</th>\n",
       "      <th>Country_Code</th>\n",
       "      <th>Country_Name</th>\n",
       "      <th>Host_city</th>\n",
       "      <th>Host_country</th>\n",
       "      <th>Gold</th>\n",
       "      <th>Silver</th>\n",
       "      <th>Bronze</th>\n",
       "      <th>Total</th>\n",
       "    </tr>\n",
       "  </thead>\n",
       "  <tbody>\n",
       "    <tr>\n",
       "      <th>1121</th>\n",
       "      <td>1992</td>\n",
       "      <td>(BEL)</td>\n",
       "      <td>Belgium</td>\n",
       "      <td>Barcelona</td>\n",
       "      <td>Spain</td>\n",
       "      <td>0</td>\n",
       "      <td>1</td>\n",
       "      <td>2</td>\n",
       "      <td>3</td>\n",
       "    </tr>\n",
       "    <tr>\n",
       "      <th>591</th>\n",
       "      <td>2016</td>\n",
       "      <td></td>\n",
       "      <td>Japan</td>\n",
       "      <td>Rio de Janeiro</td>\n",
       "      <td>Brazil</td>\n",
       "      <td>12</td>\n",
       "      <td>8</td>\n",
       "      <td>21</td>\n",
       "      <td>41</td>\n",
       "    </tr>\n",
       "    <tr>\n",
       "      <th>953</th>\n",
       "      <td>2000</td>\n",
       "      <td>(BAH)</td>\n",
       "      <td>Bahamas</td>\n",
       "      <td>Sydney</td>\n",
       "      <td>Australia</td>\n",
       "      <td>2</td>\n",
       "      <td>0</td>\n",
       "      <td>1</td>\n",
       "      <td>3</td>\n",
       "    </tr>\n",
       "    <tr>\n",
       "      <th>377</th>\n",
       "      <td>1968</td>\n",
       "      <td>(KEN)</td>\n",
       "      <td>Kenya</td>\n",
       "      <td>Mexico City</td>\n",
       "      <td>Mexico</td>\n",
       "      <td>3</td>\n",
       "      <td>4</td>\n",
       "      <td>2</td>\n",
       "      <td>9</td>\n",
       "    </tr>\n",
       "    <tr>\n",
       "      <th>750</th>\n",
       "      <td>2012</td>\n",
       "      <td>(AFG)</td>\n",
       "      <td>Afghanistan</td>\n",
       "      <td>London</td>\n",
       "      <td>Great Britain</td>\n",
       "      <td>0</td>\n",
       "      <td>0</td>\n",
       "      <td>1</td>\n",
       "      <td>1</td>\n",
       "    </tr>\n",
       "  </tbody>\n",
       "</table>\n",
       "</div>"
      ],
      "text/plain": [
       "      Year Country_Code Country_Name       Host_city   Host_country  Gold  \\\n",
       "1121  1992        (BEL)      Belgium       Barcelona          Spain     0   \n",
       "591   2016                     Japan  Rio de Janeiro         Brazil    12   \n",
       "953   2000        (BAH)      Bahamas          Sydney      Australia     2   \n",
       "377   1968        (KEN)        Kenya     Mexico City         Mexico     3   \n",
       "750   2012        (AFG)  Afghanistan          London  Great Britain     0   \n",
       "\n",
       "      Silver  Bronze  Total  \n",
       "1121       1       2      3  \n",
       "591        8      21     41  \n",
       "953        0       1      3  \n",
       "377        4       2      9  \n",
       "750        0       1      1  "
      ]
     },
     "execution_count": 54,
     "metadata": {},
     "output_type": "execute_result"
    }
   ],
   "source": [
    "all_time_country_medals.sample(5)"
   ]
  },
  {
   "cell_type": "code",
   "execution_count": 55,
   "id": "commercial-mixer",
   "metadata": {},
   "outputs": [
    {
     "name": "stdout",
     "output_type": "stream",
     "text": [
      "<class 'pandas.core.frame.DataFrame'>\n",
      "RangeIndex: 1344 entries, 0 to 1343\n",
      "Data columns (total 9 columns):\n",
      " #   Column        Non-Null Count  Dtype \n",
      "---  ------        --------------  ----- \n",
      " 0   Year          1344 non-null   object\n",
      " 1   Country_Code  1344 non-null   object\n",
      " 2   Country_Name  1344 non-null   object\n",
      " 3   Host_city     1344 non-null   object\n",
      " 4   Host_country  1344 non-null   object\n",
      " 5   Gold          1344 non-null   int32 \n",
      " 6   Silver        1344 non-null   int32 \n",
      " 7   Bronze        1344 non-null   int32 \n",
      " 8   Total         1344 non-null   int32 \n",
      "dtypes: int32(4), object(5)\n",
      "memory usage: 73.6+ KB\n"
     ]
    }
   ],
   "source": [
    "all_time_country_medals.info()"
   ]
  },
  {
   "cell_type": "code",
   "execution_count": 56,
   "id": "english-render",
   "metadata": {},
   "outputs": [
    {
     "data": {
      "text/plain": [
       "0"
      ]
     },
     "execution_count": 56,
     "metadata": {},
     "output_type": "execute_result"
    }
   ],
   "source": [
    "all_time_country_medals.duplicated().sum()"
   ]
  },
  {
   "cell_type": "code",
   "execution_count": 57,
   "id": "caring-rings",
   "metadata": {},
   "outputs": [
    {
     "data": {
      "text/plain": [
       "1896    11\n",
       "1904    13\n",
       "1908    19\n",
       "1912    19\n",
       "1900    21\n",
       "1920    22\n",
       "1924    27\n",
       "1932    27\n",
       "1936    32\n",
       "1928    33\n",
       "Name: Year, dtype: int64"
      ]
     },
     "execution_count": 57,
     "metadata": {},
     "output_type": "execute_result"
    }
   ],
   "source": [
    "all_time_country_medals.Year.value_counts(ascending = True).head(10)"
   ]
  },
  {
   "cell_type": "code",
   "execution_count": 58,
   "id": "advance-console",
   "metadata": {},
   "outputs": [
    {
     "data": {
      "text/plain": [
       "Sweden           27\n",
       "Australia        27\n",
       "Canada           27\n",
       "Hungary          27\n",
       "Italy            27\n",
       "United States    28\n",
       "Switzerland      28\n",
       "Denmark          28\n",
       "Great Britain    29\n",
       "France           29\n",
       "Name: Country_Name, dtype: int64"
      ]
     },
     "execution_count": 58,
     "metadata": {},
     "output_type": "execute_result"
    }
   ],
   "source": [
    "all_time_country_medals.Country_Name.value_counts(ascending = True).tail(10)"
   ]
  },
  {
   "cell_type": "code",
   "execution_count": 59,
   "id": "deadly-component",
   "metadata": {},
   "outputs": [
    {
     "data": {
      "text/plain": [
       "13     26\n",
       "9      36\n",
       "8      40\n",
       "7      40\n",
       "6      63\n",
       "5      85\n",
       "4      95\n",
       "3     105\n",
       "2     163\n",
       "1     298\n",
       "Name: Total, dtype: int64"
      ]
     },
     "execution_count": 59,
     "metadata": {},
     "output_type": "execute_result"
    }
   ],
   "source": [
    "all_time_country_medals.Total.value_counts(ascending = True).tail(10)"
   ]
  },
  {
   "cell_type": "code",
   "execution_count": 60,
   "id": "lesbian-serum",
   "metadata": {},
   "outputs": [
    {
     "data": {
      "text/plain": [
       "13     26\n",
       "9      36\n",
       "8      40\n",
       "7      40\n",
       "6      63\n",
       "5      85\n",
       "4      95\n",
       "3     105\n",
       "2     163\n",
       "1     298\n",
       "Name: Total, dtype: int64"
      ]
     },
     "execution_count": 60,
     "metadata": {},
     "output_type": "execute_result"
    }
   ],
   "source": [
    "all_time_country_medals.Total.value_counts(ascending = True).tail(10)"
   ]
  },
  {
   "cell_type": "code",
   "execution_count": 61,
   "id": "realistic-process",
   "metadata": {},
   "outputs": [],
   "source": [
    "# Storing the cleaed data\n",
    "\n",
    "all_time_country_medals.to_csv('Country_Medals_all_time.csv', index=False)"
   ]
  },
  {
   "cell_type": "markdown",
   "id": "ceramic-dating",
   "metadata": {},
   "source": [
    "<a id='conclusions'></a>\n",
    "## conclusions\n",
    "\n",
    "##### Almost, The datasets were redy and I did small cleaning operations. After cleaning the data i started to pose questions and analyze data Throght Tableau.\n",
    "##### The most important findings From country medals from 1896 to 2020:\n",
    "\n",
    "- London is the only city to host the olpmpics 3 times (1908, 1948, 2012).\n",
    "- Tokyo, Los Anglos, and Athens, all hosted the Olympics 2 times.\n",
    "- The most number of medals occurred in Tokyo 2020 with 1080 medals. It is the first time to be more than 1000 medals in an Olympic game.\n",
    "- The USA is the most country won medals in the history of the Olympics with a total of 2630 medals( 738 Bronze, 832 Silver, and 1060 Gold) then the surprise for me the second country is the ancient soviet union with a total of 1010 medals despite it broke in 1992 which means it lost 8 Tournaments !!.\n",
    "\n",
    "##### The most important findings From Tokyo 2020 tournament Datasets:\n",
    "\n",
    "- The General main statistics are : Total Athletes: 11062, Female Athletes: 5432, Male Athletes: 5882, Total Coaches: 381, Total Plays: 46, Total Country Teams: 93, Total Medals: 1080.\n",
    "- USA is the First country in athletes with 615 athletes, then Japan with 586 athletes.\n",
    "- USA is the first country in medals with 113 medals (33 Bronze, 41 Silver, And 39 Gold), then China with 88 medals (18 Bronze, 22 Silver, And 38 Gold).\n",
    "- The Athletics Play has the largest number of athletes with 2068, Swimmung with 743 athletes, then Football with 567 athletes.\n",
    "- Japan has the most number of Coashes in Tokyo 2020 With 35 Coashes, Then USA with 28 Coashes, And Spain with 26 Coashes.\n",
    "- Japan has the largest number of teams in Tokyo 2020 with 45 teams, then USA with 43 teams, And Italy with 34 teams. I think Japan didn't get the best result in comparison with their preparation because Japan ranked 5 in medals with 58 medals.\n",
    "- Basket Ball has the most number of coashes in 2020 with 74 coashes, then Footbal with 59 coashes, And artistic swimming with 58 coashes.\n",
    "\n",
    "\n",
    "#### Note: I also did the explanatory process with Tableau software to make insightful dashboards.\n",
    "#### The history of Olympics dashboard:\n",
    "https://public.tableau.com/app/profile/khaled.yaseen/viz/Olympics_16425314789790/TheolympicsHisyory?publish=yes\n",
    "\n",
    "#### Tokyo 2020 dashboard:\n",
    "https://public.tableau.com/app/profile/khaled.yaseen/viz/Olympics_16425314789790/Tokyo2020OlympicsGame?publish=yes\n"
   ]
  },
  {
   "cell_type": "code",
   "execution_count": null,
   "id": "taken-relief",
   "metadata": {},
   "outputs": [],
   "source": []
  }
 ],
 "metadata": {
  "kernelspec": {
   "display_name": "Python 3",
   "language": "python",
   "name": "python3"
  },
  "language_info": {
   "codemirror_mode": {
    "name": "ipython",
    "version": 3
   },
   "file_extension": ".py",
   "mimetype": "text/x-python",
   "name": "python",
   "nbconvert_exporter": "python",
   "pygments_lexer": "ipython3",
   "version": "3.8.8"
  }
 },
 "nbformat": 4,
 "nbformat_minor": 5
}
